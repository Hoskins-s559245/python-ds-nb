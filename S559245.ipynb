{
 "cells": [
  {
   "attachments": {},
   "cell_type": "markdown",
   "metadata": {},
   "source": [
    "10. Create a new Jupyter Notebook (the name of the notebook should be your S number). Add a Markdown cell that contains your name. Add a Code cell and write Python that uses loops to draw the following pattern:\n",
    "\n",
    "```\n",
    "*      *\n",
    "**    **\n",
    "***  ***\n",
    "********\n",
    "```\n",
    "Make sure to add and submit both the new notebook and the changes to this notebook for this assignment."
   ]
  },
  {
   "cell_type": "code",
   "execution_count": 110,
   "metadata": {},
   "outputs": [
    {
     "name": "stdout",
     "output_type": "stream",
     "text": [
      "*             *\n",
      "* *         * *\n",
      "* * *     * * *\n",
      "* * * * * * * *\n"
     ]
    }
   ],
   "source": [
    "ast = \"*\"\n",
    "rows = 4\n",
    "for i in range(rows -3):\n",
    "    print(ast + \"             \" + ast, end=\"\")\n",
    "    print(\"\")\n",
    "    for j in range(rows - 3):\n",
    "        print(ast, ast + \"         \"+ ast, ast)\n",
    "        for z in range(rows -3):\n",
    "            print(ast, ast, ast +\"     \"+ ast, ast, ast)\n",
    "            for q in range(rows -3):\n",
    "                print(ast, ast, ast, ast, ast, ast, ast, ast)\n",
    "\n",
    "## Not the best method, but I got it to look like it.. Would not mind seeing the proper way of doing this.\n"
   ]
  }
 ],
 "metadata": {
  "kernelspec": {
   "display_name": "Python 3",
   "language": "python",
   "name": "python3"
  },
  "language_info": {
   "name": "python",
   "version": "3.11.3"
  },
  "orig_nbformat": 4
 },
 "nbformat": 4,
 "nbformat_minor": 2
}
